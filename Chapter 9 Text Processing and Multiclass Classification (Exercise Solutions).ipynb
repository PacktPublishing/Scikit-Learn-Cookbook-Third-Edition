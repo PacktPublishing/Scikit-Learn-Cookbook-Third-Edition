{
 "cells": [
  {
   "cell_type": "markdown",
   "metadata": {},
   "source": [
    "## Practical Exercises with Text Processing (Exercise Solutions)\n",
    "In this final section, we will engage in practical exercises involving preprocessing text data, vectorizing it, extracting meaningful features, and building multiclass classification models. These exercises are designed to reinforce the concepts learned throughout the chapter and demonstrate how to effectively apply text processing and classification techniques in various scenarios. By the end of this section, we will have hands-on experience to apply in our own machine learning projects.\n",
    "\n",
    "### Exercise 1: Preprocessing and Vectorizing Text\n",
    "In this exercise, we’ll preprocess raw text data and transform it into numerical features using vectorization techniques.\n"
   ]
  },
  {
   "cell_type": "code",
   "execution_count": 43,
   "metadata": {},
   "outputs": [],
   "source": [
    "# Load libraries\n",
    "from sklearn.feature_extraction.text import TfidfVectorizer\n",
    "\n",
    "# Load the Dataset\n",
    "texts = [\n",
    "    \"Data preprocessing is essential.\",\n",
    "    \"Vectorization transforms text.\",\n",
    "    \"Clean data improves model performance.\",\n",
    "    \"Machine learning algorithms use numerical data.\"\n",
    "]\n",
    "\n",
    "# Preprocess the Data (basic cleaning)\n",
    "texts_cleaned = [text.lower() for text in texts]\n",
    "\n",
    "# Vectorize the Text\n",
    "vectorizer = TfidfVectorizer()\n",
    "X_train_vect = vectorizer.fit_transform(texts_cleaned)\n"
   ]
  },
  {
   "cell_type": "markdown",
   "metadata": {},
   "source": [
    "### Exercise 2: Feature Extraction with N-grams\n",
    "In this exercise, we'll extract n-gram features from text to capture context better for classification tasks.\n"
   ]
  },
  {
   "cell_type": "code",
   "execution_count": 44,
   "metadata": {},
   "outputs": [],
   "source": [
    "# Load libraries\n",
    "from sklearn.feature_extraction.text import CountVectorizer\n",
    "\n",
    "# Load the Dataset\n",
    "texts = [\n",
    "    \"Feature extraction is crucial.\",\n",
    "    \"N-grams capture context.\",\n",
    "    \"Models benefit from good features.\",\n",
    "    \"Contextual information enhances classification.\"\n",
    "]\n",
    "\n",
    "# Extract N-gram Features\n",
    "ngram_vectorizer = CountVectorizer(ngram_range=(1,2))\n",
    "X_train_ngram = ngram_vectorizer.fit_transform(texts)\n"
   ]
  },
  {
   "cell_type": "markdown",
   "metadata": {},
   "source": [
    "### Exercise 3: Building and Evaluating a Multiclass Classifier\n",
    "Here, we will build, train, and evaluate a multiclass classifier using logistic regression.\n"
   ]
  },
  {
   "cell_type": "code",
   "execution_count": null,
   "metadata": {},
   "outputs": [],
   "source": [
    "# Load libraries\n",
    "from sklearn.model_selection import train_test_split\n",
    "from sklearn.linear_model import LogisticRegression\n",
    "from sklearn.metrics import classification_report\n",
    "\n",
    "# Load the Dataset\n",
    "texts = [\n",
    "    \"This is an economic news article.\",\n",
    "    \"Sports events are exciting.\",\n",
    "    \"Technology advances rapidly.\",\n",
    "    \"Politics affect global relations.\"\n",
    "]\n",
    "labels = [\"Economy\", \"Sports\", \"Technology\", \"Politics\"]\n",
    "\n",
    "# Vectorize Text\n",
    "vectorizer = TfidfVectorizer()\n",
    "X_vect = vectorizer.fit_transform(texts)\n",
    "\n",
    "# Split Data\n",
    "X_train, X_test, y_train, y_test = train_test_split(X_vect, labels, test_size=0.5, random_state=2024)\n",
    "\n",
    "# Train the Classifier\n",
    "clf = LogisticRegression(random_state=2024)\n",
    "clf.fit(X_train, y_train)\n",
    "6.\tMake Predictions and Evaluate\n",
    "y_pred = clf.predict(X_test)\n",
    "print(classification_report(y_test, y_pred))\n"
   ]
  }
 ],
 "metadata": {
  "kernelspec": {
   "display_name": "venv",
   "language": "python",
   "name": "python3"
  },
  "language_info": {
   "codemirror_mode": {
    "name": "ipython",
    "version": 3
   },
   "file_extension": ".py",
   "mimetype": "text/x-python",
   "name": "python",
   "nbconvert_exporter": "python",
   "pygments_lexer": "ipython3",
   "version": "3.13.0"
  }
 },
 "nbformat": 4,
 "nbformat_minor": 4
}
